{
  "nbformat": 4,
  "nbformat_minor": 0,
  "metadata": {
    "colab": {
      "provenance": [],
      "authorship_tag": "ABX9TyOju8YUxlmS7y4R72FTyAdD",
      "include_colab_link": true
    },
    "kernelspec": {
      "name": "python3",
      "display_name": "Python 3"
    },
    "language_info": {
      "name": "python"
    }
  },
  "cells": [
    {
      "cell_type": "markdown",
      "metadata": {
        "id": "view-in-github",
        "colab_type": "text"
      },
      "source": [
        "<a href=\"https://colab.research.google.com/github/cepdnaclk/e18-6sp-Finding-the-Outliers-Group20/blob/main/6sp_model.ipynb\" target=\"_parent\"><img src=\"https://colab.research.google.com/assets/colab-badge.svg\" alt=\"Open In Colab\"/></a>"
      ]
    },
    {
      "cell_type": "code",
      "execution_count": 1,
      "metadata": {
        "id": "1odOn_Ke0yfH"
      },
      "outputs": [],
      "source": [
        "#Import libraries\n",
        "\n",
        "import pandas as pd\n",
        "import numpy as np\n",
        "from sklearn.ensemble import RandomForestClassifier\n",
        "from sklearn.model_selection import train_test_split\n",
        "from sklearn.metrics import accuracy_score\n"
      ]
    },
    {
      "cell_type": "code",
      "source": [
        "# Step 1: Data Collection\n",
        "data = pd.read_csv('stock_data.csv')\n"
      ],
      "metadata": {
        "id": "K3SrTCPP3SqR"
      },
      "execution_count": null,
      "outputs": []
    },
    {
      "cell_type": "code",
      "source": [
        "# Step 2: Data Preprocessing\n",
        "# Convert 'Date' column to datetime format\n",
        "data['Date'] = pd.to_datetime(data['Date'])"
      ],
      "metadata": {
        "id": "bLM-u9T8_CDp"
      },
      "execution_count": null,
      "outputs": []
    },
    {
      "cell_type": "code",
      "source": [
        "# Step 3: Feature Engineering\n",
        "# Calculate Moving Average\n",
        "window = 5  # Choose a suitable window size for the moving average\n",
        "data['MovingAverage'] = data['Price'].rolling(window=window).mean()"
      ],
      "metadata": {
        "id": "JXjPLLwu_Iz5"
      },
      "execution_count": null,
      "outputs": []
    },
    {
      "cell_type": "code",
      "source": [
        "# Calculate Price Volatility\n",
        "window = 10  # Choose a suitable window size for price volatility\n",
        "data['PriceVolatility'] = data['Price'].rolling(window=window).std()"
      ],
      "metadata": {
        "id": "kGKiRM8s_isy"
      },
      "execution_count": null,
      "outputs": []
    },
    {
      "cell_type": "code",
      "source": [
        "# Calculate Relative Strength Index (RSI)\n",
        "window = 14  # Choose a suitable window size for RSI\n",
        "delta = data['Price'].diff()\n",
        "gain = delta.mask(delta < 0, 0)\n",
        "loss = -delta.mask(delta > 0, 0)\n",
        "average_gain = gain.rolling(window=window).mean()\n",
        "average_loss = loss.rolling(window=window).mean()\n",
        "rs = average_gain / average_loss\n",
        "data['RSI'] = 100 - (100 / (1 + rs))\n"
      ],
      "metadata": {
        "id": "dLSYdvRRADH9"
      },
      "execution_count": null,
      "outputs": []
    },
    {
      "cell_type": "code",
      "source": [
        "# Step 4: Define Outliers\n",
        "threshold = 2  # Set a threshold for Z-score (you can adjust this value as needed)\n"
      ],
      "metadata": {
        "id": "cTk_zlu1AGLP"
      },
      "execution_count": null,
      "outputs": []
    },
    {
      "cell_type": "code",
      "source": [
        "# Calculate Z-scores for each feature\n",
        "data['Zscore_MovingAverage'] = (data['MovingAverage'] - data['MovingAverage'].mean()) / data['MovingAverage'].std()\n",
        "data['Zscore_PriceVolatility'] = (data['PriceVolatility'] - data['PriceVolatility'].mean()) / data['PriceVolatility'].std()\n",
        "data['Zscore_RSI'] = (data['RSI'] - data['RSI'].mean()) / data['RSI'].std()\n",
        "\n",
        "# Identify outliers based on Z-scores\n",
        "data['DeviationFromCrowd'] = np.where((abs(data['Zscore_MovingAverage']) > threshold) |\n",
        "                                      (abs(data['Zscore_PriceVolatility']) > threshold) |\n",
        "                                      (abs(data['Zscore_RSI']) > threshold), 1, 0)\n"
      ],
      "metadata": {
        "id": "lT2YXC9xANbg"
      },
      "execution_count": null,
      "outputs": []
    },
    {
      "cell_type": "code",
      "source": [
        "# Step 5: Model Training\n",
        "# Define the features and target variable\n",
        "features = ['MovingAverage', 'PriceVolatility', 'RSI']\n",
        "target = 'DeviationFromCrowd'\n",
        "\n",
        "# Split the data into training and testing sets\n",
        "X_train, X_test, y_train, y_test = train_test_split(data[features], data[target], test_size=0.2, random_state=42)\n",
        "\n",
        "# Initialize and train the Random Forest classifier\n",
        "rf_classifier = RandomForestClassifier()\n",
        "rf_classifier.fit(X_train, y_train)"
      ],
      "metadata": {
        "id": "EWRZJUIVAVr2"
      },
      "execution_count": null,
      "outputs": []
    },
    {
      "cell_type": "code",
      "source": [
        "# Step 6: Model Evaluation\n",
        "# Make predictions on the test set\n",
        "y_pred = rf_classifier.predict(X_test)\n",
        "\n",
        "# Evaluate the model\n",
        "accuracy = accuracy_score(y_test, y_pred)\n",
        "print(\"Accuracy:\", accuracy)"
      ],
      "metadata": {
        "id": "6ZsOBIouAdWl"
      },
      "execution_count": null,
      "outputs": []
    },
    {
      "cell_type": "code",
      "source": [
        "# Step 7: Model Deployment and Prediction\n",
        "# Load new, unseen data\n",
        "new_data = pd.read_csv('new_stock_data.csv')\n",
        "\n",
        "# Apply the same feature engineering steps as above to the new data\n",
        "new_data['Date'] = pd.to_datetime(new_data['Date'])\n",
        "new_data['MovingAverage'] = new_data['Price'].rolling(window=window).mean()\n",
        "new_data['PriceVolatility'] = new_data['Price'].rolling(window=window).std()\n",
        "new_data['RSI'] = 100 - (100 / (1 + rs))\n",
        "\n",
        "# Make predictions on the new data\n",
        "new_predictions = rf_classifier.predict(new_data[features])\n",
        "print(\"New Predictions:\", new_predictions)"
      ],
      "metadata": {
        "id": "YLUffVXJAP-7"
      },
      "execution_count": null,
      "outputs": []
    },
    {
      "cell_type": "code",
      "source": [],
      "metadata": {
        "id": "iL-4TCW9ANmt"
      },
      "execution_count": null,
      "outputs": []
    }
  ]
}